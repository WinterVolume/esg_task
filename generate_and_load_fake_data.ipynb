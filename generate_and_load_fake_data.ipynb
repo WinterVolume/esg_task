{
 "cells": [
  {
   "cell_type": "code",
   "execution_count": 1,
   "metadata": {},
   "outputs": [
    {
     "name": "stdout",
     "output_type": "stream",
     "text": [
      "Requirement already satisfied: faker in c:\\users\\hippo\\anaconda3\\lib\\site-packages (11.3.0)\n",
      "Requirement already satisfied: text-unidecode==1.3 in c:\\users\\hippo\\anaconda3\\lib\\site-packages (from faker) (1.3)\n",
      "Requirement already satisfied: python-dateutil>=2.4 in c:\\users\\hippo\\anaconda3\\lib\\site-packages (from faker) (2.8.1)\n",
      "Requirement already satisfied: six>=1.5 in c:\\users\\hippo\\anaconda3\\lib\\site-packages (from python-dateutil>=2.4->faker) (1.15.0)\n",
      "Note: you may need to restart the kernel to use updated packages.\n"
     ]
    }
   ],
   "source": [
    "%pip install faker"
   ]
  },
  {
   "cell_type": "code",
   "execution_count": 2,
   "metadata": {},
   "outputs": [],
   "source": [
    "import pandas as pd\n",
    "import random\n",
    "from faker import Faker\n",
    "from random import randrange\n",
    "from datetime import datetime"
   ]
  },
  {
   "cell_type": "code",
   "execution_count": 3,
   "metadata": {},
   "outputs": [],
   "source": [
    "%run sqlite_conn.ipynb"
   ]
  },
  {
   "cell_type": "code",
   "execution_count": 4,
   "metadata": {},
   "outputs": [],
   "source": [
    "# Create a db connection\n",
    "database = r\"C:\\Users\\hippo\\wd\\work_stuff\\esg\\easy_side_games.db\"\n",
    "conn = create_connection(database)"
   ]
  },
  {
   "cell_type": "code",
   "execution_count": 5,
   "metadata": {},
   "outputs": [],
   "source": [
    "nr_of_customers = 5000\n",
    "fake = Faker('de_DE')"
   ]
  },
  {
   "cell_type": "code",
   "execution_count": 6,
   "metadata": {},
   "outputs": [
    {
     "name": "stdout",
     "output_type": "stream",
     "text": [
      "      USER_ID   PLAY_DATE PLATFORM VERSION  LEVEL\n",
      "0           0  2018-07-01  android     2.0      5\n",
      "1           1  2018-07-08  android     3.0      7\n",
      "2           2  2018-07-23  android     1.0      8\n",
      "3           3  2018-07-07      ios     3.0      5\n",
      "4           4  2018-07-29  android     1.0      4\n",
      "...       ...         ...      ...     ...    ...\n",
      "4995     4995  2018-07-18  android     3.0      7\n",
      "4996     4996  2018-07-13  android     3.0      7\n",
      "4997     4997  2018-07-20      ios     3.0      8\n",
      "4998     4998  2018-07-16      ios     3.0      1\n",
      "4999     4999  2018-07-25  android     1.0      4\n",
      "\n",
      "[5000 rows x 5 columns]\n"
     ]
    }
   ],
   "source": [
    "# Generate fake data for session_begin table\n",
    "session_begin = []\n",
    "\n",
    "for user_id in range(nr_of_customers):\n",
    "    # Create transaction date \n",
    "    d1 = datetime.strptime(f'7/1/2018', '%m/%d/%Y')\n",
    "    d2 = datetime.strptime(f'7/30/2018', '%m/%d/%Y')\n",
    "    \n",
    "    \n",
    "    play_date = fake.date_between(d1, d2)\n",
    "    platform = random.choice([\"ios\", \"android\"])\n",
    "    version = random.choice([\"1.0\", \"2.0\", \"3.0\"])\n",
    "    level = random.choice([1,2,3,4,5,6,7,8])\n",
    "    \n",
    "    session_begin.append([user_id,play_date, platform, version, level])\n",
    "    \n",
    "session_begin_df = pd.DataFrame(session_begin, columns=['USER_ID','PLAY_DATE','PLATFORM','VERSION', 'LEVEL']) \n",
    "print(session_begin_df) \n",
    "\n",
    "session_begin_df.to_sql('sessions_begin', con=conn, if_exists='replace', index=False)"
   ]
  },
  {
   "cell_type": "code",
   "execution_count": 7,
   "metadata": {},
   "outputs": [
    {
     "name": "stdout",
     "output_type": "stream",
     "text": [
      "      USER_ID INSTALL_DATE PLATFORM VERSION INSTALL_TYPE\n",
      "0           0   2018-07-14      ios     1.0      Organic\n",
      "1           1   2018-07-01  android     3.0     Facebook\n",
      "2           2   2018-07-01      ios     3.0     Facebook\n",
      "3           3   2018-07-20      ios     1.0     Facebook\n",
      "4           4   2018-07-11  android     2.0      Organic\n",
      "...       ...          ...      ...     ...          ...\n",
      "4995     4995   2018-07-21  android     1.0     Facebook\n",
      "4996     4996   2018-07-29      ios     2.0      Organic\n",
      "4997     4997   2018-07-19  android     1.0      Organic\n",
      "4998     4998   2018-07-03  android     2.0     Facebook\n",
      "4999     4999   2018-07-06      ios     1.0      Organic\n",
      "\n",
      "[5000 rows x 5 columns]\n"
     ]
    }
   ],
   "source": [
    "# Generate fake data for install table\n",
    "# Note I don't care if install date < play date as this is just dummy data...\n",
    "\n",
    "install = []\n",
    "\n",
    "for user_id in range(nr_of_customers):\n",
    "    # Create transaction date \n",
    "    d1 = datetime.strptime(f'7/1/2018', '%m/%d/%Y')\n",
    "    d2 = datetime.strptime(f'7/30/2018', '%m/%d/%Y')\n",
    "    \n",
    "    \n",
    "    install_date = fake.date_between(d1, d2)\n",
    "    platform = random.choice([\"ios\", \"android\"])\n",
    "    version = random.choice([\"1.0\", \"2.0\", \"3.0\"])\n",
    "    install_type = random.choice(['Organic', 'Facebook'])\n",
    "    \n",
    "    install.append([user_id,install_date, platform, version, install_type])\n",
    "    \n",
    "install_df = pd.DataFrame(install, columns=['USER_ID','INSTALL_DATE','PLATFORM','VERSION', 'INSTALL_TYPE']) \n",
    "print(install_df)   \n",
    "\n",
    "install_df.to_sql('install', con=conn, if_exists='replace', index=False)"
   ]
  },
  {
   "cell_type": "code",
   "execution_count": 8,
   "metadata": {},
   "outputs": [
    {
     "name": "stdout",
     "output_type": "stream",
     "text": [
      "      USER_ID PURCHASE_DATE PLATFORM VERSION  LEVEL TRANSACTION_ID  \\\n",
      "0           0    2018-07-23      ios     3.0      1       67523306   \n",
      "1           1    2018-07-21      ios     1.0      3       98201563   \n",
      "2           2    2018-07-15  android     2.0      3       29688968   \n",
      "3           3    2018-07-24  android     3.0      4       59141693   \n",
      "4           4    2018-07-15      ios     3.0      7       14987762   \n",
      "...       ...           ...      ...     ...    ...            ...   \n",
      "4995     4995    2018-07-10      ios     3.0      6       52628672   \n",
      "4996     4996    2018-07-26  android     1.0      3       53877710   \n",
      "4997     4997    2018-07-10  android     1.0      8       52085161   \n",
      "4998     4998    2018-07-14  android     1.0      7       34656204   \n",
      "4999     4999    2018-07-28  android     1.0      3       25990324   \n",
      "\n",
      "               ITEM_NAME  AMOUNT  \n",
      "0     Dwight Bobble Head   74.30  \n",
      "1       200 Shrute Bucks   71.88  \n",
      "2            6 Pack Beer   62.20  \n",
      "3       200 Shrute Bucks   43.69  \n",
      "4          200 Pot Bucks    9.57  \n",
      "...                  ...     ...  \n",
      "4995          Promo Pack   88.83  \n",
      "4996    200 Shrute Bucks   67.38  \n",
      "4997          Promo Pack   79.86  \n",
      "4998  Dwight Bobble Head   71.43  \n",
      "4999       200 Pot Bucks   86.19  \n",
      "\n",
      "[5000 rows x 8 columns]\n"
     ]
    }
   ],
   "source": [
    "# Generate fake data for purchase table\n",
    "# Note I don't care if purchase date < play date as this is just dummy data...\n",
    "\n",
    "purchase = []\n",
    "\n",
    "for user_id in range(nr_of_customers):\n",
    "    # Create transaction date \n",
    "    d1 = datetime.strptime(f'7/1/2018', '%m/%d/%Y')\n",
    "    d2 = datetime.strptime(f'7/30/2018', '%m/%d/%Y')\n",
    "    \n",
    "    \n",
    "    purchase_date = fake.date_between(d1, d2)\n",
    "    platform = random.choice([\"ios\", \"android\"])\n",
    "    version = random.choice([\"1.0\", \"2.0\", \"3.0\"])\n",
    "    level = random.choice([1,2,3,4,5,6,7,8])\n",
    "    transaction_id = fake.ean(length=8)\n",
    "    item_name = random.choice([\"Jalapeno Chips\", \"6 Pack Beer\", \"200 Shrute Bucks\", \"Dwight Bobble Head\", \"200 Pot Bucks\", \"Promo Pack\"])\n",
    "    \n",
    "    amount = fake.pyfloat(right_digits=2, positive=True, min_value=1, max_value=100)\n",
    "    \n",
    "    purchase.append([user_id,purchase_date, platform, version, level, transaction_id, item_name, amount])\n",
    "    \n",
    "purchase_df = pd.DataFrame(purchase, columns=['USER_ID','PURCHASE_DATE','PLATFORM','VERSION', 'LEVEL','TRANSACTION_ID', 'ITEM_NAME', 'AMOUNT']) \n",
    "print(purchase_df)   \n",
    "\n",
    "purchase_df.to_sql('purchase', con=conn, if_exists='replace', index=False)"
   ]
  },
  {
   "cell_type": "code",
   "execution_count": 9,
   "metadata": {},
   "outputs": [],
   "source": [
    "conn.commit()\n",
    "conn.close()"
   ]
  }
 ],
 "metadata": {
  "kernelspec": {
   "display_name": "Python 3",
   "language": "python",
   "name": "python3"
  },
  "language_info": {
   "codemirror_mode": {
    "name": "ipython",
    "version": 3
   },
   "file_extension": ".py",
   "mimetype": "text/x-python",
   "name": "python",
   "nbconvert_exporter": "python",
   "pygments_lexer": "ipython3",
   "version": "3.8.5"
  }
 },
 "nbformat": 4,
 "nbformat_minor": 4
}
